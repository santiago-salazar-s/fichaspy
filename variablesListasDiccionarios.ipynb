{
  "nbformat": 4,
  "nbformat_minor": 0,
  "metadata": {
    "colab": {
      "provenance": [],
      "authorship_tag": "ABX9TyNdZCvGc6piytX16BL6Q114",
      "include_colab_link": true
    },
    "kernelspec": {
      "name": "python3",
      "display_name": "Python 3"
    },
    "language_info": {
      "name": "python"
    }
  },
  "cells": [
    {
      "cell_type": "markdown",
      "metadata": {
        "id": "view-in-github",
        "colab_type": "text"
      },
      "source": [
        "<a href=\"https://colab.research.google.com/github/santiago-salazar-s/fichaspy/blob/main/variablesListasDiccionarios.ipynb\" target=\"_parent\"><img src=\"https://colab.research.google.com/assets/colab-badge.svg\" alt=\"Open In Colab\"/></a>"
      ]
    },
    {
      "cell_type": "markdown",
      "source": [
        "*texto en cursiva*# VARIABLES"
      ],
      "metadata": {
        "id": "873w6Jxz3ydp"
      }
    },
    {
      "cell_type": "markdown",
      "source": [
        "# Listas"
      ],
      "metadata": {
        "id": "-qxyk3k4jAs-"
      }
    },
    {
      "cell_type": "markdown",
      "source": [
        "Por que y para que las listas en python?\n",
        "por que:\n",
        "\n",
        "1. para almacenar multiples valores bajo una misma variable\n",
        "2. para manipular conjuntos de datos con facilidad\n",
        "3. por su flexibilidad de tipos, almacenan datos de cualquier Tipo\n",
        "4. mutabilidad: permiten modificar elementos despues de su creacion\n",
        "\n",
        "\n",
        "para que:\n",
        "1. para representar colecciones de datos\n",
        "2. para realizar operaciones como filtrado, ordenamiento y busqueda"
      ],
      "metadata": {
        "id": "ypup0l_q8IFM"
      }
    },
    {
      "cell_type": "code",
      "execution_count": null,
      "metadata": {
        "colab": {
          "base_uri": "https://localhost:8080/"
        },
        "id": "zxppDVbQhUzv",
        "outputId": "9d38ec91-4f45-497c-a1cc-39e8c8d8c767",
        "collapsed": true
      },
      "outputs": [
        {
          "output_type": "stream",
          "name": "stdout",
          "text": [
            "Lista inicial: ['Leche', 'Pan', 'Huevos', 'Manzanas']\n",
            "Después de agregar Yogur: ['Leche', 'Pan', 'Huevos', 'Manzanas', 'Yogur']\n",
            "Después de eliminar Pan: ['Leche', 'Huevos', 'Manzanas', 'Yogur']\n",
            "Lista final de compras: ['Leche', 'Huevos', 'Manzanas', 'Yogur']\n"
          ]
        }
      ],
      "source": [
        "# Crea un programa en Python que permita gestionar una lista de compras. Debe:\n",
        "\n",
        "# Iniciar con una lista de productos predefinidos.\n",
        "\n",
        "# Permitir agregar un nuevo producto a la lista.\n",
        "\n",
        "# Eliminar un producto específico de la lista.\n",
        "\n",
        "# Mostrar la lista actualizada después de cada operación.\n",
        "\n",
        "# Paso 1: Crear una lista inicial de compras\n",
        "lista_compras = [\"Leche\", \"Pan\", \"Huevos\", \"Manzanas\"]\n",
        "print(\"Lista inicial:\", lista_compras)\n",
        "\n",
        "# Paso 2: Agregar un nuevo producto\n",
        "nuevo_producto = \"Yogur\"\n",
        "lista_compras.append(nuevo_producto)\n",
        "print(\"Después de agregar Yogur:\", lista_compras)\n",
        "\n",
        "# Paso 3: Eliminar un producto\n",
        "producto_a_eliminar = \"Pan\"\n",
        "lista_compras.remove(producto_a_eliminar)\n",
        "print(\"Después de eliminar Pan:\", lista_compras)\n",
        "\n",
        "# Paso 4: Mostrar la lista final\n",
        "print(\"Lista final de compras:\", lista_compras)\n",
        "\n",
        "\n",
        "# nota: son estructuras dinamicas que almacenan una secencia ordenada de elementor, pueden contener diferentes tipos de datos como: numeros, cadenas, booleanos y otras listas.\n"
      ]
    },
    {
      "cell_type": "markdown",
      "source": [
        "[patico](https://santiago-salazar-s.github.io/fichaspy/listas/listas.mp4)"
      ],
      "metadata": {
        "id": "QE2OKTLeZ12p"
      }
    },
    {
      "cell_type": "markdown",
      "source": [
        "# Diccionarios"
      ],
      "metadata": {
        "id": "hhAKD5aZyez-"
      }
    },
    {
      "cell_type": "markdown",
      "source": [
        "Por que y para que son los diccionarios en python?\n",
        "por que:\n",
        "1. Se usan cuando necesitamos almacenar datos en clave- valor.\n",
        "2. permiten acceder a los valores rapidamente usando claves\n",
        "3. permiten usar diferentes tipos de datos\n",
        "4. son mutables, permiten agregar, eliminar o modificar elementos\n",
        "\n",
        "para que:\n",
        "1. organizar datos de manera estructurada\n",
        "2. almacenar configuraciones, como parametros de un programa\n",
        "3. anidamiento: un diccionario puede contener otros diccionarios como valores, permitiendo estructuras jerarquicas\n",
        "\n",
        "\n",
        "\n",
        "\n"
      ],
      "metadata": {
        "id": "l2vlB_Eh2uYG"
      }
    },
    {
      "cell_type": "code",
      "source": [
        "# Paso 1: Crear un diccionario con información de un estudiante\n",
        "estudiante = {\n",
        "    \"nombre\": \"Juan Pérez\",\n",
        "    \"edad\": 21,\n",
        "    \"carrera\": \"Ingeniería\",\n",
        "    \"promedio\": 8.5\n",
        "}\n",
        "print(\"Diccionario original:\", estudiante)\n",
        "\n",
        "# Paso 2: Acceder a los valores usando claves\n",
        "print(\"Nombre del estudiante:\", estudiante[\"nombre\"])\n",
        "print(\"Edad:\", estudiante[\"edad\"])\n",
        "\n",
        "# Paso 3: Modificar un valor\n",
        "estudiante[\"promedio\"] = 9.2\n",
        "print(\"Promedio actualizado:\", estudiante)\n",
        "\n",
        "# Paso 4: Agregar una nueva clave-valor\n",
        "estudiante[\"universidad\"] = \"Universidad Nacional\"\n",
        "print(\"Diccionario después de agregar universidad:\", estudiante)\n",
        "\n",
        "# Paso 5: Eliminar una clave\n",
        "del estudiante[\"edad\"]\n",
        "print(\"Diccionario después de eliminar la edad:\", estudiante)\n",
        "\n",
        "# Paso 6: Recorrer el diccionario\n",
        "print(\"Recorriendo el diccionario:\")\n",
        "for clave, valor in estudiante.items():\n",
        "    print(f\"{clave}: {valor}\")\n",
        "\n",
        "\n",
        "# Explicación paso a paso\n",
        "# Creamos un diccionario estudiante con varias claves (nombre, edad, carrera, promedio).\n",
        "\n",
        "# Accedemos a los valores usando las claves (estudiante[\"nombre\"]).\n",
        "\n",
        "# Modificamos un valor, cambiando el promedio del estudiante.\n",
        "\n",
        "# Agregamos una nueva clave-valor, añadiendo la universidad.\n",
        "\n",
        "# Eliminamos una clave usando del.\n",
        "\n",
        "# Recorremos el diccionario con un bucle for, imprimiendo cada clave y su valor."
      ],
      "metadata": {
        "colab": {
          "base_uri": "https://localhost:8080/"
        },
        "id": "f_qqDc4Kyq4N",
        "outputId": "697c30da-3a70-42b3-b23e-fbdbbab6d788",
        "collapsed": true
      },
      "execution_count": null,
      "outputs": [
        {
          "output_type": "stream",
          "name": "stdout",
          "text": [
            "Diccionario original: {'nombre': 'Juan Pérez', 'edad': 21, 'carrera': 'Ingeniería', 'promedio': 8.5}\n",
            "Nombre del estudiante: Juan Pérez\n",
            "Edad: 21\n",
            "Promedio actualizado: {'nombre': 'Juan Pérez', 'edad': 21, 'carrera': 'Ingeniería', 'promedio': 9.2}\n",
            "Diccionario después de agregar universidad: {'nombre': 'Juan Pérez', 'edad': 21, 'carrera': 'Ingeniería', 'promedio': 9.2, 'universidad': 'Universidad Nacional'}\n",
            "Diccionario después de eliminar la edad: {'nombre': 'Juan Pérez', 'carrera': 'Ingeniería', 'promedio': 9.2, 'universidad': 'Universidad Nacional'}\n",
            "Recorriendo el diccionario:\n",
            "nombre: Juan Pérez\n",
            "carrera: Ingeniería\n",
            "promedio: 9.2\n",
            "universidad: Universidad Nacional\n"
          ]
        }
      ]
    },
    {
      "cell_type": "markdown",
      "source": [
        "[patico](https://santiago-salazar-s.github.io/diccionarios/diccionarios.mp4)"
      ],
      "metadata": {
        "id": "L6yL7pK_ee5R"
      }
    }
  ]
}