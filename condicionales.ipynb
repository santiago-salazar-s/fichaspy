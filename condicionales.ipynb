{
  "nbformat": 4,
  "nbformat_minor": 0,
  "metadata": {
    "colab": {
      "provenance": [],
      "authorship_tag": "ABX9TyOCbi2PkX3IcbXKIQi7Mcwv",
      "include_colab_link": true
    },
    "kernelspec": {
      "name": "python3",
      "display_name": "Python 3"
    },
    "language_info": {
      "name": "python"
    }
  },
  "cells": [
    {
      "cell_type": "markdown",
      "metadata": {
        "id": "view-in-github",
        "colab_type": "text"
      },
      "source": [
        "<a href=\"https://colab.research.google.com/github/santiago-salazar-s/fichaspy/blob/main/condicionales.ipynb\" target=\"_parent\"><img src=\"https://colab.research.google.com/assets/colab-badge.svg\" alt=\"Open In Colab\"/></a>"
      ]
    },
    {
      "cell_type": "markdown",
      "source": [
        "### Condicionales if- else"
      ],
      "metadata": {
        "id": "bTR15R_kTSP_"
      }
    },
    {
      "cell_type": "markdown",
      "source": [
        "Por que y para que los condicionales en python?\n",
        "\n",
        "por que?\n",
        "1. permiten que un programa tome deciosiones en funcion de ciertas condicionales\n",
        "2. permiten ejecutar codigo si solo se cumple una condicion\n",
        "3. hacen que los programas sean dinamicos e interactivos\n",
        "4. facilitan la validacion de datos y la toma de decisiones\n",
        "\n",
        "para que?\n",
        "1. para validar datos\n",
        "2. para controlar el flujo de un programa\n",
        "3. para ejecutar diferentes acciones segun valores"
      ],
      "metadata": {
        "id": "HkD1rQ2CTdTv"
      }
    },
    {
      "cell_type": "code",
      "source": [
        "edad = 15\n",
        "\n",
        "if edad >= 18:          # Primera condición (adulto)\n",
        "    print(\"Adulto\")\n",
        "elif edad >= 13:        # Segunda condición (adolescente)\n",
        "    print(\"Adolescente\")\n",
        "else:                   # Caso por defecto (niño)\n",
        "    print(\"Niño\")\n"
      ],
      "metadata": {
        "id": "nWoc47w1Tjff"
      },
      "execution_count": null,
      "outputs": []
    },
    {
      "cell_type": "markdown",
      "source": [
        "[patico](https://santiago-salazar-s.github.io/fichaspy/condicionales/condicionales.mp4)"
      ],
      "metadata": {
        "id": "VAjH4_l3d9d5"
      }
    }
  ]
}