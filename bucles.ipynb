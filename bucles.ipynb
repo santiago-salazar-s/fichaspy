{
  "nbformat": 4,
  "nbformat_minor": 0,
  "metadata": {
    "colab": {
      "provenance": [],
      "authorship_tag": "ABX9TyOkH0q6x5DRcp28NmnES/km",
      "include_colab_link": true
    },
    "kernelspec": {
      "name": "python3",
      "display_name": "Python 3"
    },
    "language_info": {
      "name": "python"
    }
  },
  "cells": [
    {
      "cell_type": "markdown",
      "metadata": {
        "id": "view-in-github",
        "colab_type": "text"
      },
      "source": [
        "<a href=\"https://colab.research.google.com/github/santiago-salazar-s/fichaspy/blob/main/bucles.ipynb\" target=\"_parent\"><img src=\"https://colab.research.google.com/assets/colab-badge.svg\" alt=\"Open In Colab\"/></a>"
      ]
    },
    {
      "cell_type": "markdown",
      "source": [
        "## Bucles\n",
        "\n"
      ],
      "metadata": {
        "id": "9yFCBg2iS3fv"
      }
    },
    {
      "cell_type": "markdown",
      "source": [
        "# Bucles / Loops / ciclos\n"
      ],
      "metadata": {
        "id": "Y2hscU0QTDSm"
      }
    },
    {
      "cell_type": "markdown",
      "source": [
        "Por que y para que los diccionarios en python?\n",
        "por que?\n",
        "1. permiten ejecutar un bloque de codigo varias veces sin necesidad de escribirlo repetidamente\n",
        "2. automatizan tareas repetitivas\n",
        "3. hacen el codigo mas eficiente y compacto\n",
        "4. permiten recorrer estructuras de datos como listas y diccionarios\n",
        "\n",
        "para que?\n",
        "1. su uso principal es gestionar iteraciones para procesar datos o realizar calculos\n",
        "2. para repetir una accion hasta que se cumple una condicion\n",
        "3. procesamiento de datos estructurados, itera sobre listas, diccionarios o cadenas"
      ],
      "metadata": {
        "id": "IZTyop4-TJsA"
      }
    },
    {
      "cell_type": "code",
      "source": [
        "# Paso 1: Usar un bucle for para contar del 1 al 5\n",
        "for numero in range(1, 6):\n",
        "    print(numero)\n",
        "\n",
        "# Usamos for para repetir el código varias veces.\n",
        "\n",
        "# La función range(1, 6) genera los números del 1 al 5 (el 6 no se incluye).\n",
        "\n",
        "# Cada iteración imprime un número, avanzando hasta que se completa el rango.\n",
        "\n",
        "\n",
        "# Paso 1: Definir una variable inicial\n",
        "contador = 1\n",
        "\n",
        "# Paso 2: Usar un bucle while con una condición\n",
        "while contador <= 5:\n",
        "    print(contador)\n",
        "    contador += 1  # Incrementar el contador\n",
        "\n",
        "# Creamos la variable contador y le asignamos el valor 1.\n",
        "\n",
        "# while contador <= 5 mantiene el bucle en ejecución mientras la condición sea verdadera.\n",
        "\n",
        "# Se imprime contador en cada iteración y se incrementa en 1 hasta llegar a 5."
      ],
      "metadata": {
        "id": "htNBIOMWTK2p"
      },
      "execution_count": null,
      "outputs": []
    },
    {
      "cell_type": "markdown",
      "source": [
        "[patico](https://santiago-salazar-s.github.io/fichaspy/bucles/bucles.mp4)"
      ],
      "metadata": {
        "id": "95lVJu4KeJyR"
      }
    }
  ]
}