{
  "nbformat": 4,
  "nbformat_minor": 0,
  "metadata": {
    "colab": {
      "provenance": [],
      "authorship_tag": "ABX9TyNO7W68wbB97w2vMAYfm4nP",
      "include_colab_link": true
    },
    "kernelspec": {
      "name": "python3",
      "display_name": "Python 3"
    },
    "language_info": {
      "name": "python"
    }
  },
  "cells": [
    {
      "cell_type": "markdown",
      "metadata": {
        "id": "view-in-github",
        "colab_type": "text"
      },
      "source": [
        "<a href=\"https://colab.research.google.com/github/santiago-salazar-s/fichaspy/blob/main/funciones.ipynb\" target=\"_parent\"><img src=\"https://colab.research.google.com/assets/colab-badge.svg\" alt=\"Open In Colab\"/></a>"
      ]
    },
    {
      "cell_type": "markdown",
      "source": [
        "## Funciones"
      ],
      "metadata": {
        "id": "-ii6fGT3Vbuh"
      }
    },
    {
      "cell_type": "markdown",
      "source": [
        "1. son bloques de codigo que se pueden reutilizar.\n",
        "2. se crean usando la palabra \"def\", seguida del nombre de la funcion, un parametro y \":\"\n",
        "3. si no se definen parametros en la funcion, la funcion tomara el parametro predeterminado\n",
        "4. se pueden pasar los parametros en cualquier orden solamente llamando el nombre del parametro\n",
        "5. se pueden asignar funciones a variables y usar la variable como una funcion\n",
        "6. si la funcion incluye parametros, al llamar la funcion se debe llamar la misma cantidad de parametros\n",
        "7. las variables definidas dentro de una funcion solo existen dentro de la funcion"
      ],
      "metadata": {
        "id": "4_xuXbrtVeWg"
      }
    },
    {
      "cell_type": "code",
      "source": [
        "# función con un parámetro\n",
        "def holaConNombre(name):\n",
        "  print(\"Hello \" + name + \"!\")"
      ],
      "metadata": {
        "id": "OQ0T496TViyQ"
      },
      "execution_count": null,
      "outputs": []
    },
    {
      "cell_type": "markdown",
      "source": [
        "[funciones patico](https://santiago-salazar-s.github.io/fichaspy/funciones/funciones.mp4)"
      ],
      "metadata": {
        "id": "GK6xPg5Vc9WP"
      }
    }
  ]
}