{
  "nbformat": 4,
  "nbformat_minor": 0,
  "metadata": {
    "colab": {
      "provenance": [],
      "authorship_tag": "ABX9TyPrZjNvLOkytpCJ8bDOPcHA",
      "include_colab_link": true
    },
    "kernelspec": {
      "name": "python3",
      "display_name": "Python 3"
    },
    "language_info": {
      "name": "python"
    }
  },
  "cells": [
    {
      "cell_type": "markdown",
      "metadata": {
        "id": "view-in-github",
        "colab_type": "text"
      },
      "source": [
        "<a href=\"https://colab.research.google.com/github/santiago-salazar-s/fichaspy/blob/main/operadoresMatematicos.ipynb\" target=\"_parent\"><img src=\"https://colab.research.google.com/assets/colab-badge.svg\" alt=\"Open In Colab\"/></a>"
      ]
    },
    {
      "cell_type": "markdown",
      "source": [
        "# Operadores matematicos en python\n",
        "\n",
        "\n"
      ],
      "metadata": {
        "id": "z4aeMzrNT_uq"
      }
    },
    {
      "cell_type": "markdown",
      "source": [
        "por que?\n",
        "1. permiten realizar calculos y operaciones\n",
        "1. permiten tomar decisiones basadas en condiciones\n",
        "2. permiten operaciones matematicas y logicas\n",
        "3. son fundamentles para estructuras de control."
      ],
      "metadata": {
        "id": "Hfv5J4W8UFq3"
      }
    },
    {
      "cell_type": "code",
      "source": [
        "suma = a + b\n",
        "resta = a - b\n",
        "multiplicacion = a * b\n",
        "division = a / b"
      ],
      "metadata": {
        "id": "a3WX1H5Adttz"
      },
      "execution_count": null,
      "outputs": []
    },
    {
      "cell_type": "markdown",
      "source": [
        "[texto del vínculo](https://santiago-salazar-s.github.io/fichaspy/opmat/opmat.mp4)"
      ],
      "metadata": {
        "id": "ca8iLtfTdvD4"
      }
    }
  ]
}