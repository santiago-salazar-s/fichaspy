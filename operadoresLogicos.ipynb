{
  "nbformat": 4,
  "nbformat_minor": 0,
  "metadata": {
    "colab": {
      "provenance": [],
      "authorship_tag": "ABX9TyPzxidRrrI8cZ+qcvOlRKoE",
      "include_colab_link": true
    },
    "kernelspec": {
      "name": "python3",
      "display_name": "Python 3"
    },
    "language_info": {
      "name": "python"
    }
  },
  "cells": [
    {
      "cell_type": "markdown",
      "metadata": {
        "id": "view-in-github",
        "colab_type": "text"
      },
      "source": [
        "<a href=\"https://colab.research.google.com/github/santiago-salazar-s/fichaspy/blob/main/operadoresLogicos.ipynb\" target=\"_parent\"><img src=\"https://colab.research.google.com/assets/colab-badge.svg\" alt=\"Open In Colab\"/></a>"
      ]
    },
    {
      "cell_type": "markdown",
      "source": [
        "## Operadores logicos\n"
      ],
      "metadata": {
        "id": "IkDUtgdmUX-y"
      }
    },
    {
      "cell_type": "markdown",
      "source": [
        "son palabras clave (and, or, not) que actuan como conjunciones conectando y evaluando varias condiciones dentro de una misma expresión."
      ],
      "metadata": {
        "id": "MIAqve1iU4m3"
      }
    },
    {
      "cell_type": "code",
      "source": [
        "#se declara la variable temperatura\n",
        "temperatura = 25\n",
        " #se declara la variable soleado\n",
        "soleado = True\n",
        "# se hace la operacion logica, si es and el resultado de toda la operacion logica\n",
        "# debe ser true para que el codigo se ejecute, si es or con que un solo enunciado sea true ya se ejecuta el codigo\n",
        "if temperatura > 20 and soleado:\n",
        "    print(\"Es un dia perfecto para un picnic\")\n",
        "\n",
        "\n",
        "has_umbrella = False\n",
        "\n",
        "if is_sunny or has_umbrella:\n",
        "    print(\"Let's go for a walk!\")"
      ],
      "metadata": {
        "id": "_nXp0rdnU_w4"
      },
      "execution_count": null,
      "outputs": []
    },
    {
      "cell_type": "markdown",
      "source": [
        "[patico](https://santiago-salazar-s.github.io/fichaspy/oplog/oplog.mp4)"
      ],
      "metadata": {
        "id": "VkJs6YfhdcVK"
      }
    }
  ]
}